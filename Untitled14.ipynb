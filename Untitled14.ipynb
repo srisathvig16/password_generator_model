{
 "cells": [
  {
   "cell_type": "code",
   "execution_count": 5,
   "id": "354f2c43-aaad-4cbe-b4d0-5bb1aeccb1bc",
   "metadata": {},
   "outputs": [
    {
     "name": "stdout",
     "output_type": "stream",
     "text": [
      "Password Generator\n",
      "------------------\n"
     ]
    },
    {
     "name": "stdin",
     "output_type": "stream",
     "text": [
      "Enter the length of the password:  15\n",
      "Include uppercase letters? (y/n):  n\n",
      "Include lowercase letters? (y/n):  y\n",
      "Include numbers? (y/n):  y\n",
      "Include special characters? (y/n):  n\n"
     ]
    },
    {
     "name": "stdout",
     "output_type": "stream",
     "text": [
      "Generated Password: 38onk3asp8cw0an\n",
      "Password copied to clipboard.\n"
     ]
    }
   ],
   "source": [
    "import random\n",
    "import string\n",
    "import pyperclip\n",
    "\n",
    "def generate_password(length, include_uppercase, include_lowercase, include_numbers, include_special_chars):\n",
    "    # Create a string of characters based on user preferences\n",
    "    characters = \"\"\n",
    "    if include_uppercase:\n",
    "        characters += string.ascii_uppercase\n",
    "    if include_lowercase:\n",
    "        characters += string.ascii_lowercase\n",
    "    if include_numbers:\n",
    "        characters += string.digits\n",
    "    if include_special_chars:\n",
    "        characters += string.punctuation\n",
    "    \n",
    "    # Generate a password using random.choice\n",
    "    password = ''.join(random.choice(characters) for _ in range(length))\n",
    "    return password\n",
    "\n",
    "def main():\n",
    "    print(\"Password Generator\")\n",
    "    print(\"------------------\")\n",
    "    \n",
    "    # Get user input\n",
    "    length = int(input(\"Enter the length of the password: \"))\n",
    "    include_uppercase = input(\"Include uppercase letters? (y/n): \").lower() == 'y'\n",
    "    include_lowercase = input(\"Include lowercase letters? (y/n): \").lower() == 'y'\n",
    "    include_numbers = input(\"Include numbers? (y/n): \").lower() == 'y'\n",
    "    include_special_chars = input(\"Include special characters? (y/n): \").lower() == 'y'\n",
    "    \n",
    "    # Generate the password\n",
    "    password = generate_password(length, include_uppercase, include_lowercase, include_numbers, include_special_chars)\n",
    "    \n",
    "    # Display the generated password\n",
    "    print(\"Generated Password:\", password)\n",
    "    \n",
    "    # Copy the password to the clipboard\n",
    "    pyperclip.copy(password)\n",
    "    print(\"Password copied to clipboard.\")\n",
    "\n",
    "if __name__ == \"__main__\":\n",
    "    main()"
   ]
  },
  {
   "cell_type": "code",
   "execution_count": null,
   "id": "365e2798-018c-4476-98fa-c4f48aa25460",
   "metadata": {},
   "outputs": [],
   "source": []
  }
 ],
 "metadata": {
  "kernelspec": {
   "display_name": "Python 3 (ipykernel)",
   "language": "python",
   "name": "python3"
  },
  "language_info": {
   "codemirror_mode": {
    "name": "ipython",
    "version": 3
   },
   "file_extension": ".py",
   "mimetype": "text/x-python",
   "name": "python",
   "nbconvert_exporter": "python",
   "pygments_lexer": "ipython3",
   "version": "3.10.9"
  }
 },
 "nbformat": 4,
 "nbformat_minor": 5
}
